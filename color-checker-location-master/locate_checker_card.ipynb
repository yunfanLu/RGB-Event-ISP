{
 "cells": [
  {
   "cell_type": "markdown",
   "metadata": {},
   "source": [
    "# Locate Checker Card"
   ]
  },
  {
   "cell_type": "markdown",
   "metadata": {},
   "source": [
    "## import"
   ]
  },
  {
   "cell_type": "code",
   "execution_count": 1,
   "metadata": {},
   "outputs": [
    {
     "name": "stdout",
     "output_type": "stream",
     "text": [
      "Looking in indexes: https://pypi.tuna.tsinghua.edu.cn/simple\n",
      "Requirement already satisfied: opencv-python in /home/data/raoziyang/anaconda3/lib/python3.11/site-packages (4.9.0.80)\n",
      "Requirement already satisfied: numpy in /home/data/raoziyang/anaconda3/lib/python3.11/site-packages (1.24.3)\n",
      "Requirement already satisfied: colour-science in /home/data/raoziyang/anaconda3/lib/python3.11/site-packages (0.4.4)\n",
      "Requirement already satisfied: colour-checker-detection in /home/data/raoziyang/anaconda3/lib/python3.11/site-packages (0.2.0)\n",
      "Requirement already satisfied: tqdm in /home/data/raoziyang/anaconda3/lib/python3.11/site-packages (4.65.0)\n",
      "Requirement already satisfied: imageio<3,>=2 in /home/data/raoziyang/anaconda3/lib/python3.11/site-packages (from colour-science) (2.31.4)\n",
      "Requirement already satisfied: scipy<2,>=1.8 in /home/data/raoziyang/anaconda3/lib/python3.11/site-packages (from colour-science) (1.11.3)\n",
      "Requirement already satisfied: typing-extensions<5,>=4 in /home/data/raoziyang/anaconda3/lib/python3.11/site-packages (from colour-science) (4.7.1)\n",
      "Requirement already satisfied: pillow>=8.3.2 in /home/data/raoziyang/anaconda3/lib/python3.11/site-packages (from imageio<3,>=2->colour-science) (10.0.1)\n"
     ]
    }
   ],
   "source": [
    "!pip install opencv-python numpy colour-science colour-checker-detection tqdm"
   ]
  },
  {
   "cell_type": "code",
   "execution_count": 2,
   "metadata": {
    "metadata": {}
   },
   "outputs": [
    {
     "name": "stderr",
     "output_type": "stream",
     "text": [
      "/home/data/raoziyang/anaconda3/lib/python3.11/site-packages/colour/utilities/verbose.py:265: ColourWarning: \"vaab/colour\" was detected in \"sys.path\", please define a \"COLOUR_SCIENCE__COLOUR__IMPORT_VAAB_COLOUR=True\" environment variable to import its objects into \"colour\" namespace!\n",
      "  warn(*args, **kwargs)  # noqa: B028\n"
     ]
    }
   ],
   "source": [
    "import cv2\n",
    "import os\n",
    "import numpy as np\n",
    "import colour\n",
    "import json\n",
    "import colour_checker_detection\n",
    "from tqdm import tqdm\n",
    "from colour.utilities import (as_array,metric_mse)\n",
    "from colour.plotting import plot_image\n",
    "from colour.characterisation import CCS_COLOURCHECKERS\n",
    "from colour.models import XYZ_to_RGB, xyY_to_XYZ"
   ]
  },
  {
   "cell_type": "markdown",
   "metadata": {},
   "source": [
    "## colour checker card locator"
   ]
  },
  {
   "cell_type": "code",
   "execution_count": 3,
   "metadata": {
    "metadata": {}
   },
   "outputs": [],
   "source": [
    "# ===== colour reference =====\n",
    "COLOURCHECKER = CCS_COLOURCHECKERS[\"ColorChecker24 - After November 2014\"]\n",
    "COLOR_REFERENCE = XYZ_to_RGB(xyY_to_XYZ(list(COLOURCHECKER.data.values())),\"sRGB\",COLOURCHECKER.illuminant,)\n",
    "\n",
    "# ===== functions =====\n",
    "def sort_points_counterclockwise(points):\n",
    "    '''\n",
    "    input the vertices of a quadrilateral, rerank the vertices starting from the top-left point and iterate with counterclockwise order\n",
    "    '''\n",
    "    # find top-left point\n",
    "    top_left_index = np.argmin(np.linalg.norm(points, axis=1))\n",
    "    top_left = points[top_left_index]\n",
    "\n",
    "    # sort point counterclockwise\n",
    "    vectors = points - top_left\n",
    "    angles = np.arctan2(vectors[:, 1], vectors[:, 0])\n",
    "    angles[top_left_index] = np.inf\n",
    "    sorted_indices = np.argsort(-angles)\n",
    "    sorted_points = points[sorted_indices]\n",
    "    return sorted_points\n",
    "\n",
    "def locate_card(image):\n",
    "    '''\n",
    "    input the png image\n",
    "    return None if no color detected\n",
    "    return the vertices of the card in the order of brown, cyan, white, black if detected (0,0 top left)\n",
    "    '''\n",
    "    img_width = image.shape[1]\n",
    "    img_height = image.shape[0]\n",
    "    \n",
    "    colour_checker_data = colour_checker_detection.segmenter_default(image, additional_data=True, \n",
    "                                                                     working_width=img_width, working_height=img_height)\n",
    "    bounding_boxes = colour_checker_data.rectangles\n",
    "    if len(bounding_boxes) == 0:\n",
    "        # no colour checker found\n",
    "        return []\n",
    "    else:\n",
    "        # get the bounding box of the card\n",
    "        bounding_box = bounding_boxes[-1]\n",
    "        bounding_box = sort_points_counterclockwise(bounding_box)\n",
    "        \n",
    "        # decide the direction of the card by computing the mse loss of sampled colours\n",
    "        image = as_array(image)\n",
    "        bounding_box = np.array(bounding_box, dtype=np.float32)\n",
    "        rectangle = np.array([[0, 0], [0, img_height],[img_width, img_height],[img_width, 0]], dtype=np.float32)\n",
    "        transform = cv2.getPerspectiveTransform(bounding_box, rectangle)\n",
    "        colour_checker = cv2.warpPerspective(image,transform,(img_width, img_height))\n",
    "        masks = colour_checker_detection.detect_colour_checkers_segmentation(image, additional_data=True, \n",
    "                                                                             working_width=img_width, working_height=img_height)[0].values[1]\n",
    "        # compare 4 directions\n",
    "        mse_list = [0, 0, 0, 0]\n",
    "        sampled_colours = np.array([np.mean(colour_checker[mask[0] : mask[1], mask[2] : mask[3], ...],axis=(0, 1),)for mask in masks], dtype=np.float32)\n",
    "        mse_list[0] = metric_mse(COLOR_REFERENCE, sampled_colours)\n",
    "        candidate_bounding_box = np.copy(bounding_box)\n",
    "        for i in range(3):\n",
    "            candidate_bounding_box = np.roll(candidate_bounding_box, 1, 0)\n",
    "            transform = cv2.getPerspectiveTransform(candidate_bounding_box,rectangle)\n",
    "            colour_checker_candidate = cv2.warpPerspective(image,transform,(img_width, img_height))\n",
    "            candidate_sampled_colours = np.array([np.mean(colour_checker_candidate[mask[0] : mask[1], mask[2] : mask[3], ...],axis=(0, 1),)for mask in masks], dtype=np.float32)\n",
    "            mse_list[i+1] = metric_mse(COLOR_REFERENCE, candidate_sampled_colours)\n",
    "        \n",
    "        # the direction with the min mse is the correct direction with the white block in left bottom\n",
    "        min_value = min(mse_list)\n",
    "        min_index = mse_list.index(min_value)\n",
    "        \n",
    "        # output the vertices of the card in the order of brown, cyan, white, black\n",
    "        if min_index == 0:\n",
    "            return [bounding_box[3], bounding_box[0], bounding_box[1], bounding_box[2]]\n",
    "        elif min_index == 1:\n",
    "            return [bounding_box[2], bounding_box[3], bounding_box[0], bounding_box[1]]\n",
    "        elif min_index == 2:\n",
    "            return [bounding_box[1], bounding_box[2], bounding_box[3], bounding_box[0]]\n",
    "        elif min_index == 3:\n",
    "            return [bounding_box[0], bounding_box[1], bounding_box[2], bounding_box[3]]"
   ]
  },
  {
   "cell_type": "markdown",
   "metadata": {},
   "source": [
    "## test locator"
   ]
  },
  {
   "cell_type": "code",
   "execution_count": 4,
   "metadata": {
    "metadata": {}
   },
   "outputs": [],
   "source": [
    "# from PIL import Image, ImageDraw\n",
    "\n",
    "# # img path\n",
    "# img_path = './input_dta/4.png'\n",
    "# points = locate_card(img_path)\n",
    "\n",
    "# img = Image.open(img_path)\n",
    "# draw = ImageDraw.Draw(img)\n",
    "\n",
    "# # Draw circles and labels at the specified points\n",
    "# color = ['brown', 'cyan', 'white', 'black']\n",
    "# for index, point in enumerate(points):\n",
    "#     # Draw circle\n",
    "#     draw.ellipse((point[0]-15, point[1]-15, point[0]+15, point[1]+15), fill=color[index])\n",
    "\n",
    "# # Save the image with markings\n",
    "# img.save(\"./test4.jpg\")\n"
   ]
  },
  {
   "cell_type": "markdown",
   "metadata": {},
   "source": [
    "## output formatter"
   ]
  },
  {
   "cell_type": "code",
   "execution_count": 5,
   "metadata": {},
   "outputs": [],
   "source": [
    "def save_labelme_format(image_path, points, image_shape, template):\n",
    "    '''\n",
    "    formate the output to labelme json, and save to the same directory with the image\n",
    "    image_path: absolute path of the image\n",
    "    points: [brown, cyan, white, black]\n",
    "    '''\n",
    "    # get the dir basename and name text\n",
    "    dir = os.path.dirname(image_path)\n",
    "    basename = os.path.basename(image_path)\n",
    "    name_text, _ = os.path.splitext(basename)\n",
    "    \n",
    "    # format\n",
    "    output = template.copy()\n",
    "    output['imagePath'] = basename\n",
    "    output['imageHeight'] = image_shape[0]\n",
    "    output['imageWidth'] = image_shape[1]\n",
    "    \n",
    "    # card not detected\n",
    "    if len(points) == 0:\n",
    "        output['shapes'][0]['points'] = []\n",
    "        output['shapes'][1]['points'] = []\n",
    "        output['shapes'][2]['points'] = []\n",
    "        output['shapes'][3]['points'] = []\n",
    "    # card detected\n",
    "    else:\n",
    "        # brown\n",
    "        output['shapes'][0]['points'] = [points[0].tolist()]\n",
    "        # cyan\n",
    "        output['shapes'][1]['points'] = [points[1].tolist()]\n",
    "        # white\n",
    "        output['shapes'][2]['points'] = [points[2].tolist()]\n",
    "        # black\n",
    "        output['shapes'][3]['points'] = [points[3].tolist()]\n",
    "    \n",
    "    # write to json file\n",
    "    output_path = os.path.join(dir, name_text + '.json')\n",
    "    with open(output_path, 'w') as json_file:\n",
    "        json.dump(output, json_file)"
   ]
  },
  {
   "cell_type": "markdown",
   "metadata": {},
   "source": [
    "## main"
   ]
  },
  {
   "cell_type": "code",
   "execution_count": 6,
   "metadata": {},
   "outputs": [],
   "source": [
    "def process_one_png(image_path, template):\n",
    "    '''\n",
    "    pipeline function to process 1 png, output save to the same dir of the png\n",
    "    image_path: absolute path of the image\n",
    "    template: output json template\n",
    "    '''\n",
    "    image = colour.io.read_image(image_path)\n",
    "    points = locate_card(image)\n",
    "    save_labelme_format(image_path, points, image.shape, template)\n",
    "    if len(points) == 0:\n",
    "        return 0\n",
    "    else:\n",
    "        return 1"
   ]
  },
  {
   "cell_type": "code",
   "execution_count": 7,
   "metadata": {},
   "outputs": [
    {
     "name": "stdout",
     "output_type": "stream",
     "text": [
      "===== 4 PNG files found =====\n"
     ]
    },
    {
     "name": "stderr",
     "output_type": "stream",
     "text": [
      "  0%|          | 0/4 [00:00<?, ?it/s]/home/data/raoziyang/anaconda3/lib/python3.11/site-packages/colour/utilities/verbose.py:265: ColourUsageWarning: \"OpenImageIO\" related API features are not available, switching to \"Imageio\"!\n",
      "  warn(*args, **kwargs)  # noqa: B028\n",
      "100%|██████████| 4/4 [00:08<00:00,  2.08s/it]"
     ]
    },
    {
     "name": "stdout",
     "output_type": "stream",
     "text": [
      "===== detection finished: 3 ckeckers detected =====\n"
     ]
    },
    {
     "name": "stderr",
     "output_type": "stream",
     "text": [
      "\n"
     ]
    }
   ],
   "source": [
    "# =============================================================================\n",
    "# ======================== absolute dir of input data =========================\n",
    "input_dir = '/home/data/raoziyang/event_color/rgbe-isp/color-checker-location-master/test_input_dta/'\n",
    "# =============================================================================\n",
    "# =============================================================================\n",
    "\n",
    "\n",
    "# get a list of all .png files in the input directory\n",
    "png_files = []\n",
    "for filename in os.listdir(input_dir):\n",
    "    if filename.endswith(\".png\"):\n",
    "        png_files.append(input_dir + filename)\n",
    "\n",
    "print(f'===== {len(png_files)} PNG files found =====')\n",
    "\n",
    "# output template\n",
    "with open('./labelme_format_template.json', 'r') as file:\n",
    "    template = json.load(file)\n",
    "\n",
    "# start\n",
    "detected_counter = 0\n",
    "for png_file in tqdm(png_files):\n",
    "    if process_one_png(png_file, template) == 1:\n",
    "        detected_counter = detected_counter + 1\n",
    "\n",
    "print(f\"===== detection finished: {detected_counter} ckeckers detected =====\")"
   ]
  },
  {
   "cell_type": "code",
   "execution_count": null,
   "metadata": {},
   "outputs": [],
   "source": []
  },
  {
   "cell_type": "code",
   "execution_count": null,
   "metadata": {},
   "outputs": [],
   "source": []
  },
  {
   "cell_type": "code",
   "execution_count": null,
   "metadata": {},
   "outputs": [],
   "source": []
  }
 ],
 "metadata": {
  "kernelspec": {
   "display_name": "base",
   "language": "python",
   "name": "python3"
  },
  "language_info": {
   "codemirror_mode": {
    "name": "ipython",
    "version": 3
   },
   "file_extension": ".py",
   "mimetype": "text/x-python",
   "name": "python",
   "nbconvert_exporter": "python",
   "pygments_lexer": "ipython3",
   "version": "3.11.5"
  }
 },
 "nbformat": 4,
 "nbformat_minor": 2
}
